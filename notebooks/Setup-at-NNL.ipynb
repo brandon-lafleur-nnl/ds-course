{
 "cells": [
  {
   "cell_type": "markdown",
   "id": "b68f635d",
   "metadata": {
    "slideshow": {
     "slide_type": "slide"
    }
   },
   "source": [
    "# Setup@NNL\n",
    "\n",
    "Presented by: Brandon LaFleur and Brian McClune"
   ]
  },
  {
   "cell_type": "markdown",
   "id": "c533538e",
   "metadata": {
    "slideshow": {
     "slide_type": "slide"
    }
   },
   "source": [
    "# Introduction\n",
    "\n",
    "0. Are Anaconda VS Code and Git installed?\n",
    "1. VS Code\n",
    "2. Git\n",
    "3. Conda\n",
    "4. Hello world DS"
   ]
  },
  {
   "cell_type": "markdown",
   "id": "c775d302",
   "metadata": {
    "slideshow": {
     "slide_type": "subslide"
    }
   },
   "source": [
    "Brief overview of what's coming, why it's good not for just this class (!)"
   ]
  },
  {
   "cell_type": "markdown",
   "id": "de9f857a",
   "metadata": {
    "slideshow": {
     "slide_type": "slide"
    }
   },
   "source": [
    "# VS Code"
   ]
  },
  {
   "cell_type": "markdown",
   "id": "86e970b7",
   "metadata": {
    "slideshow": {
     "slide_type": "notes"
    }
   },
   "source": [
    "* Install extensions for course\n",
    "    * Python, jupyter, git\n",
    "* Introduce VS Code as a framework to fascilitate OSEMN\n",
    "* Motivate and give tour of opening page\n",
    "    * File explorer\n",
    "    * search\n",
    "    * extensions\n",
    "    * save a workspace\n",
    "    * version control"
   ]
  },
  {
   "cell_type": "markdown",
   "id": "9e67c22d",
   "metadata": {
    "slideshow": {
     "slide_type": "slide"
    }
   },
   "source": [
    "# Git"
   ]
  },
  {
   "cell_type": "markdown",
   "id": "983c85de",
   "metadata": {
    "slideshow": {
     "slide_type": "notes"
    }
   },
   "source": [
    "* Clone class files\n",
    "* maybe give 20 min tutorial?\n",
    "* You should see an env.yml file ... "
   ]
  },
  {
   "cell_type": "markdown",
   "id": "0473d1e7",
   "metadata": {
    "slideshow": {
     "slide_type": "slide"
    }
   },
   "source": [
    "# Conda"
   ]
  },
  {
   "cell_type": "markdown",
   "id": "d3bf3658",
   "metadata": {
    "slideshow": {
     "slide_type": "notes"
    }
   },
   "source": [
    "* What is Anaconda?\n",
    "    * Distribution of python\n",
    "    * Popular and intended for data scientists\n",
    "* What is Conda?\n",
    "    * def'n from website\n",
    "    * Package/env manager for PC/HPC environments\n",
    "    * demo creation of env on commandline\n",
    "* How to setup (2 paths)\n",
    "    * setup condarc file (use Lacharite's recipe)\n",
    "    * setup the classroom environment"
   ]
  },
  {
   "cell_type": "markdown",
   "id": "def72cff",
   "metadata": {
    "slideshow": {
     "slide_type": "slide"
    }
   },
   "source": [
    "# Hello World for Data Science"
   ]
  },
  {
   "cell_type": "markdown",
   "id": "808b61f1",
   "metadata": {
    "slideshow": {
     "slide_type": "notes"
    }
   },
   "source": [
    "* Open notebook, import and print versions\n",
    "* Do a simple linear regression on scikit dataset"
   ]
  }
 ],
 "metadata": {
  "celltoolbar": "Slideshow",
  "kernelspec": {
   "display_name": "Python 3 (ipykernel)",
   "language": "python",
   "name": "python3"
  },
  "language_info": {
   "codemirror_mode": {
    "name": "ipython",
    "version": 3
   },
   "file_extension": ".py",
   "mimetype": "text/x-python",
   "name": "python",
   "nbconvert_exporter": "python",
   "pygments_lexer": "ipython3",
   "version": "3.9.7"
  }
 },
 "nbformat": 4,
 "nbformat_minor": 5
}
