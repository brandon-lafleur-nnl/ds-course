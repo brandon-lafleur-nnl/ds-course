{
 "cells": [
  {
   "cell_type": "markdown",
   "id": "b68f635d",
   "metadata": {
    "slideshow": {
     "slide_type": "slide"
    }
   },
   "source": [
    "# Setup@NNL\n",
    "\n",
    "Presented by: Brandon LaFleur and Brian McClune"
   ]
  },
  {
   "cell_type": "markdown",
   "id": "c533538e",
   "metadata": {
    "slideshow": {
     "slide_type": "slide"
    }
   },
   "source": [
    "# Outline\n",
    "\n",
    "0. Are Anaconda VS Code and Git installed?\n",
    "1. Conda\n",
    "2. VS Code\n",
    "3. Git\n",
    "4. Integrate\n",
    "5. Hello world DS"
   ]
  },
  {
   "cell_type": "markdown",
   "id": "8ebffce9",
   "metadata": {
    "slideshow": {
     "slide_type": "slide"
    }
   },
   "source": [
    "# Conda"
   ]
  },
  {
   "cell_type": "markdown",
   "id": "d567f077",
   "metadata": {
    "slideshow": {
     "slide_type": "notes"
    }
   },
   "source": [
    "1. Introduce conda environments\n",
    "    * what is it, motivate\n",
    "    * show how to install\n",
    "    * "
   ]
  },
  {
   "cell_type": "markdown",
   "id": "7ef75669",
   "metadata": {
    "slideshow": {
     "slide_type": "slide"
    }
   },
   "source": [
    "# VS Code"
   ]
  },
  {
   "cell_type": "markdown",
   "id": "e2a5e957",
   "metadata": {
    "slideshow": {
     "slide_type": "notes"
    }
   },
   "source": [
    "..."
   ]
  },
  {
   "cell_type": "markdown",
   "id": "23574665",
   "metadata": {
    "slideshow": {
     "slide_type": "slide"
    }
   },
   "source": [
    "# Git"
   ]
  },
  {
   "cell_type": "markdown",
   "id": "b1790c06",
   "metadata": {
    "slideshow": {
     "slide_type": "notes"
    }
   },
   "source": [
    "..."
   ]
  },
  {
   "cell_type": "markdown",
   "id": "29b2185e",
   "metadata": {
    "slideshow": {
     "slide_type": "slide"
    }
   },
   "source": [
    "# Integrate"
   ]
  },
  {
   "cell_type": "markdown",
   "id": "4e8f39ab",
   "metadata": {
    "slideshow": {
     "slide_type": "notes"
    }
   },
   "source": [
    "..."
   ]
  },
  {
   "cell_type": "markdown",
   "id": "ca589aa5",
   "metadata": {
    "slideshow": {
     "slide_type": "slide"
    }
   },
   "source": [
    "# Hello World for Data Science"
   ]
  },
  {
   "cell_type": "markdown",
   "id": "ac704b8a",
   "metadata": {
    "slideshow": {
     "slide_type": "notes"
    }
   },
   "source": [
    "..."
   ]
  }
 ],
 "metadata": {
  "celltoolbar": "Slideshow",
  "kernelspec": {
   "display_name": "Python 3 (ipykernel)",
   "language": "python",
   "name": "python3"
  },
  "language_info": {
   "codemirror_mode": {
    "name": "ipython",
    "version": 3
   },
   "file_extension": ".py",
   "mimetype": "text/x-python",
   "name": "python",
   "nbconvert_exporter": "python",
   "pygments_lexer": "ipython3",
   "version": "3.9.7"
  }
 },
 "nbformat": 4,
 "nbformat_minor": 5
}
